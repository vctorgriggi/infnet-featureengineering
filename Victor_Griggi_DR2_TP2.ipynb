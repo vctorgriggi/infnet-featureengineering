{
 "cells": [
  {
   "cell_type": "markdown",
   "id": "4d9aa1de",
   "metadata": {},
   "source": [
    "## Parte 1: Normalização de Features - Iris Dataset"
   ]
  },
  {
   "cell_type": "code",
   "execution_count": 95,
   "id": "e334459a",
   "metadata": {},
   "outputs": [],
   "source": [
    "import numpy as np\n",
    "import pandas as pd\n",
    "from sklearn.datasets import load_iris\n",
    "from sklearn.preprocessing import StandardScaler, normalize"
   ]
  },
  {
   "cell_type": "markdown",
   "id": "37ac7bf5",
   "metadata": {},
   "source": [
    "##### Questão 1 - Normalização com `StandardScaler` (Sklearn)"
   ]
  },
  {
   "cell_type": "code",
   "execution_count": 96,
   "id": "bcaaf7b0",
   "metadata": {},
   "outputs": [
    {
     "name": "stdout",
     "output_type": "stream",
     "text": [
      "Dados originais (primeiras linhas):\n"
     ]
    },
    {
     "data": {
      "text/html": [
       "<div>\n",
       "<style scoped>\n",
       "    .dataframe tbody tr th:only-of-type {\n",
       "        vertical-align: middle;\n",
       "    }\n",
       "\n",
       "    .dataframe tbody tr th {\n",
       "        vertical-align: top;\n",
       "    }\n",
       "\n",
       "    .dataframe thead th {\n",
       "        text-align: right;\n",
       "    }\n",
       "</style>\n",
       "<table border=\"1\" class=\"dataframe\">\n",
       "  <thead>\n",
       "    <tr style=\"text-align: right;\">\n",
       "      <th></th>\n",
       "      <th>sepal length (cm)</th>\n",
       "      <th>sepal width (cm)</th>\n",
       "      <th>petal length (cm)</th>\n",
       "      <th>petal width (cm)</th>\n",
       "    </tr>\n",
       "  </thead>\n",
       "  <tbody>\n",
       "    <tr>\n",
       "      <th>0</th>\n",
       "      <td>5.1</td>\n",
       "      <td>3.5</td>\n",
       "      <td>1.4</td>\n",
       "      <td>0.2</td>\n",
       "    </tr>\n",
       "    <tr>\n",
       "      <th>1</th>\n",
       "      <td>4.9</td>\n",
       "      <td>3.0</td>\n",
       "      <td>1.4</td>\n",
       "      <td>0.2</td>\n",
       "    </tr>\n",
       "    <tr>\n",
       "      <th>2</th>\n",
       "      <td>4.7</td>\n",
       "      <td>3.2</td>\n",
       "      <td>1.3</td>\n",
       "      <td>0.2</td>\n",
       "    </tr>\n",
       "    <tr>\n",
       "      <th>3</th>\n",
       "      <td>4.6</td>\n",
       "      <td>3.1</td>\n",
       "      <td>1.5</td>\n",
       "      <td>0.2</td>\n",
       "    </tr>\n",
       "    <tr>\n",
       "      <th>4</th>\n",
       "      <td>5.0</td>\n",
       "      <td>3.6</td>\n",
       "      <td>1.4</td>\n",
       "      <td>0.2</td>\n",
       "    </tr>\n",
       "  </tbody>\n",
       "</table>\n",
       "</div>"
      ],
      "text/plain": [
       "   sepal length (cm)  sepal width (cm)  petal length (cm)  petal width (cm)\n",
       "0                5.1               3.5                1.4               0.2\n",
       "1                4.9               3.0                1.4               0.2\n",
       "2                4.7               3.2                1.3               0.2\n",
       "3                4.6               3.1                1.5               0.2\n",
       "4                5.0               3.6                1.4               0.2"
      ]
     },
     "execution_count": 96,
     "metadata": {},
     "output_type": "execute_result"
    }
   ],
   "source": [
    "iris = load_iris()\n",
    "X = iris.data\n",
    "feature_names = iris.feature_names\n",
    "\n",
    "df_original = pd.DataFrame(X, columns=feature_names)\n",
    "\n",
    "print(\"Dados originais (primeiras linhas):\")\n",
    "df_original.head()"
   ]
  },
  {
   "cell_type": "code",
   "execution_count": 97,
   "id": "08992fbf",
   "metadata": {},
   "outputs": [
    {
     "name": "stdout",
     "output_type": "stream",
     "text": [
      "Dados normalizados com StandardScaler:\n"
     ]
    },
    {
     "data": {
      "text/html": [
       "<div>\n",
       "<style scoped>\n",
       "    .dataframe tbody tr th:only-of-type {\n",
       "        vertical-align: middle;\n",
       "    }\n",
       "\n",
       "    .dataframe tbody tr th {\n",
       "        vertical-align: top;\n",
       "    }\n",
       "\n",
       "    .dataframe thead th {\n",
       "        text-align: right;\n",
       "    }\n",
       "</style>\n",
       "<table border=\"1\" class=\"dataframe\">\n",
       "  <thead>\n",
       "    <tr style=\"text-align: right;\">\n",
       "      <th></th>\n",
       "      <th>sepal length (cm)</th>\n",
       "      <th>sepal width (cm)</th>\n",
       "      <th>petal length (cm)</th>\n",
       "      <th>petal width (cm)</th>\n",
       "    </tr>\n",
       "  </thead>\n",
       "  <tbody>\n",
       "    <tr>\n",
       "      <th>0</th>\n",
       "      <td>-0.900681</td>\n",
       "      <td>1.019004</td>\n",
       "      <td>-1.340227</td>\n",
       "      <td>-1.315444</td>\n",
       "    </tr>\n",
       "    <tr>\n",
       "      <th>1</th>\n",
       "      <td>-1.143017</td>\n",
       "      <td>-0.131979</td>\n",
       "      <td>-1.340227</td>\n",
       "      <td>-1.315444</td>\n",
       "    </tr>\n",
       "    <tr>\n",
       "      <th>2</th>\n",
       "      <td>-1.385353</td>\n",
       "      <td>0.328414</td>\n",
       "      <td>-1.397064</td>\n",
       "      <td>-1.315444</td>\n",
       "    </tr>\n",
       "    <tr>\n",
       "      <th>3</th>\n",
       "      <td>-1.506521</td>\n",
       "      <td>0.098217</td>\n",
       "      <td>-1.283389</td>\n",
       "      <td>-1.315444</td>\n",
       "    </tr>\n",
       "    <tr>\n",
       "      <th>4</th>\n",
       "      <td>-1.021849</td>\n",
       "      <td>1.249201</td>\n",
       "      <td>-1.340227</td>\n",
       "      <td>-1.315444</td>\n",
       "    </tr>\n",
       "  </tbody>\n",
       "</table>\n",
       "</div>"
      ],
      "text/plain": [
       "   sepal length (cm)  sepal width (cm)  petal length (cm)  petal width (cm)\n",
       "0          -0.900681          1.019004          -1.340227         -1.315444\n",
       "1          -1.143017         -0.131979          -1.340227         -1.315444\n",
       "2          -1.385353          0.328414          -1.397064         -1.315444\n",
       "3          -1.506521          0.098217          -1.283389         -1.315444\n",
       "4          -1.021849          1.249201          -1.340227         -1.315444"
      ]
     },
     "execution_count": 97,
     "metadata": {},
     "output_type": "execute_result"
    }
   ],
   "source": [
    "scaler = StandardScaler()\n",
    "X_scaled = scaler.fit_transform(X)\n",
    "\n",
    "df_scaled = pd.DataFrame(X_scaled, columns=feature_names)\n",
    "\n",
    "print(\"Dados normalizados com StandardScaler:\")\n",
    "df_scaled.head()"
   ]
  },
  {
   "cell_type": "code",
   "execution_count": 98,
   "id": "d4ccdd63",
   "metadata": {},
   "outputs": [
    {
     "name": "stdout",
     "output_type": "stream",
     "text": [
      "Média das features (após normalização):\n",
      "sepal length (cm)   -1.690315e-15\n",
      "sepal width (cm)    -1.842970e-15\n",
      "petal length (cm)   -1.698641e-15\n",
      "petal width (cm)    -1.409243e-15\n",
      "dtype: float64\n",
      "\n",
      "Desvio padrão das features (após normalização):\n",
      "sepal length (cm)    1.00335\n",
      "sepal width (cm)     1.00335\n",
      "petal length (cm)    1.00335\n",
      "petal width (cm)     1.00335\n",
      "dtype: float64\n"
     ]
    }
   ],
   "source": [
    "means = df_scaled.mean()\n",
    "stds = df_scaled.std()\n",
    "\n",
    "print(\"Média das features (após normalização):\")\n",
    "print(means)\n",
    "\n",
    "print(\"\\nDesvio padrão das features (após normalização):\")\n",
    "print(stds)"
   ]
  },
  {
   "cell_type": "markdown",
   "id": "3e1e89a7",
   "metadata": {},
   "source": [
    "##### Questão 2 - Normalização Manual (StandardScaler)"
   ]
  },
  {
   "cell_type": "code",
   "execution_count": 99,
   "id": "f0c71f9f",
   "metadata": {},
   "outputs": [
    {
     "name": "stdout",
     "output_type": "stream",
     "text": [
      "Dados normalizados manualmente:\n"
     ]
    },
    {
     "data": {
      "text/html": [
       "<div>\n",
       "<style scoped>\n",
       "    .dataframe tbody tr th:only-of-type {\n",
       "        vertical-align: middle;\n",
       "    }\n",
       "\n",
       "    .dataframe tbody tr th {\n",
       "        vertical-align: top;\n",
       "    }\n",
       "\n",
       "    .dataframe thead th {\n",
       "        text-align: right;\n",
       "    }\n",
       "</style>\n",
       "<table border=\"1\" class=\"dataframe\">\n",
       "  <thead>\n",
       "    <tr style=\"text-align: right;\">\n",
       "      <th></th>\n",
       "      <th>sepal length (cm)</th>\n",
       "      <th>sepal width (cm)</th>\n",
       "      <th>petal length (cm)</th>\n",
       "      <th>petal width (cm)</th>\n",
       "    </tr>\n",
       "  </thead>\n",
       "  <tbody>\n",
       "    <tr>\n",
       "      <th>0</th>\n",
       "      <td>-0.900681</td>\n",
       "      <td>1.019004</td>\n",
       "      <td>-1.340227</td>\n",
       "      <td>-1.315444</td>\n",
       "    </tr>\n",
       "    <tr>\n",
       "      <th>1</th>\n",
       "      <td>-1.143017</td>\n",
       "      <td>-0.131979</td>\n",
       "      <td>-1.340227</td>\n",
       "      <td>-1.315444</td>\n",
       "    </tr>\n",
       "    <tr>\n",
       "      <th>2</th>\n",
       "      <td>-1.385353</td>\n",
       "      <td>0.328414</td>\n",
       "      <td>-1.397064</td>\n",
       "      <td>-1.315444</td>\n",
       "    </tr>\n",
       "    <tr>\n",
       "      <th>3</th>\n",
       "      <td>-1.506521</td>\n",
       "      <td>0.098217</td>\n",
       "      <td>-1.283389</td>\n",
       "      <td>-1.315444</td>\n",
       "    </tr>\n",
       "    <tr>\n",
       "      <th>4</th>\n",
       "      <td>-1.021849</td>\n",
       "      <td>1.249201</td>\n",
       "      <td>-1.340227</td>\n",
       "      <td>-1.315444</td>\n",
       "    </tr>\n",
       "  </tbody>\n",
       "</table>\n",
       "</div>"
      ],
      "text/plain": [
       "   sepal length (cm)  sepal width (cm)  petal length (cm)  petal width (cm)\n",
       "0          -0.900681          1.019004          -1.340227         -1.315444\n",
       "1          -1.143017         -0.131979          -1.340227         -1.315444\n",
       "2          -1.385353          0.328414          -1.397064         -1.315444\n",
       "3          -1.506521          0.098217          -1.283389         -1.315444\n",
       "4          -1.021849          1.249201          -1.340227         -1.315444"
      ]
     },
     "execution_count": 99,
     "metadata": {},
     "output_type": "execute_result"
    }
   ],
   "source": [
    "def standard_scaler_manual(X):\n",
    "    mean = X.mean(axis=0)\n",
    "    std = X.std(axis=0)\n",
    "    return (X - mean) / std\n",
    "\n",
    "X_manual_scaled = standard_scaler_manual(X)\n",
    "df_manual_scaled = pd.DataFrame(X_manual_scaled, columns=feature_names)\n",
    "\n",
    "print(\"Dados normalizados manualmente:\")\n",
    "df_manual_scaled.head()"
   ]
  },
  {
   "cell_type": "code",
   "execution_count": 100,
   "id": "e9b4cc45",
   "metadata": {},
   "outputs": [
    {
     "name": "stdout",
     "output_type": "stream",
     "text": [
      "Diferença média absoluta entre métodos:\n"
     ]
    },
    {
     "data": {
      "text/plain": [
       "sepal length (cm)    0.0\n",
       "sepal width (cm)     0.0\n",
       "petal length (cm)    0.0\n",
       "petal width (cm)     0.0\n",
       "dtype: float64"
      ]
     },
     "execution_count": 100,
     "metadata": {},
     "output_type": "execute_result"
    }
   ],
   "source": [
    "dif = np.abs(df_scaled - df_manual_scaled)\n",
    "print(\"Diferença média absoluta entre métodos:\")\n",
    "dif.mean()"
   ]
  },
  {
   "cell_type": "markdown",
   "id": "d53c100b",
   "metadata": {},
   "source": [
    "##### Questão 3 - Normalização L2 (Norma Euclidiana)"
   ]
  },
  {
   "cell_type": "code",
   "execution_count": 101,
   "id": "545a5bb5",
   "metadata": {},
   "outputs": [
    {
     "name": "stdout",
     "output_type": "stream",
     "text": [
      "Dados normalizados com norma L2:\n"
     ]
    },
    {
     "data": {
      "text/html": [
       "<div>\n",
       "<style scoped>\n",
       "    .dataframe tbody tr th:only-of-type {\n",
       "        vertical-align: middle;\n",
       "    }\n",
       "\n",
       "    .dataframe tbody tr th {\n",
       "        vertical-align: top;\n",
       "    }\n",
       "\n",
       "    .dataframe thead th {\n",
       "        text-align: right;\n",
       "    }\n",
       "</style>\n",
       "<table border=\"1\" class=\"dataframe\">\n",
       "  <thead>\n",
       "    <tr style=\"text-align: right;\">\n",
       "      <th></th>\n",
       "      <th>sepal length (cm)</th>\n",
       "      <th>sepal width (cm)</th>\n",
       "      <th>petal length (cm)</th>\n",
       "      <th>petal width (cm)</th>\n",
       "    </tr>\n",
       "  </thead>\n",
       "  <tbody>\n",
       "    <tr>\n",
       "      <th>0</th>\n",
       "      <td>0.803773</td>\n",
       "      <td>0.551609</td>\n",
       "      <td>0.220644</td>\n",
       "      <td>0.031521</td>\n",
       "    </tr>\n",
       "    <tr>\n",
       "      <th>1</th>\n",
       "      <td>0.828133</td>\n",
       "      <td>0.507020</td>\n",
       "      <td>0.236609</td>\n",
       "      <td>0.033801</td>\n",
       "    </tr>\n",
       "    <tr>\n",
       "      <th>2</th>\n",
       "      <td>0.805333</td>\n",
       "      <td>0.548312</td>\n",
       "      <td>0.222752</td>\n",
       "      <td>0.034269</td>\n",
       "    </tr>\n",
       "    <tr>\n",
       "      <th>3</th>\n",
       "      <td>0.800030</td>\n",
       "      <td>0.539151</td>\n",
       "      <td>0.260879</td>\n",
       "      <td>0.034784</td>\n",
       "    </tr>\n",
       "    <tr>\n",
       "      <th>4</th>\n",
       "      <td>0.790965</td>\n",
       "      <td>0.569495</td>\n",
       "      <td>0.221470</td>\n",
       "      <td>0.031639</td>\n",
       "    </tr>\n",
       "  </tbody>\n",
       "</table>\n",
       "</div>"
      ],
      "text/plain": [
       "   sepal length (cm)  sepal width (cm)  petal length (cm)  petal width (cm)\n",
       "0           0.803773          0.551609           0.220644          0.031521\n",
       "1           0.828133          0.507020           0.236609          0.033801\n",
       "2           0.805333          0.548312           0.222752          0.034269\n",
       "3           0.800030          0.539151           0.260879          0.034784\n",
       "4           0.790965          0.569495           0.221470          0.031639"
      ]
     },
     "execution_count": 101,
     "metadata": {},
     "output_type": "execute_result"
    }
   ],
   "source": [
    "X_l2 = normalize(X, norm='l2')\n",
    "df_l2 = pd.DataFrame(X_l2, columns=feature_names)\n",
    "\n",
    "print(\"Dados normalizados com norma L2:\")\n",
    "df_l2.head()"
   ]
  },
  {
   "cell_type": "markdown",
   "id": "84445f84",
   "metadata": {},
   "source": [
    "##### Questão 4 - Normalização L1 (Norma Manhattan)"
   ]
  },
  {
   "cell_type": "code",
   "execution_count": 102,
   "id": "ad0bfcff",
   "metadata": {},
   "outputs": [
    {
     "name": "stdout",
     "output_type": "stream",
     "text": [
      "Dados normalizados com norma L1:\n"
     ]
    },
    {
     "data": {
      "text/html": [
       "<div>\n",
       "<style scoped>\n",
       "    .dataframe tbody tr th:only-of-type {\n",
       "        vertical-align: middle;\n",
       "    }\n",
       "\n",
       "    .dataframe tbody tr th {\n",
       "        vertical-align: top;\n",
       "    }\n",
       "\n",
       "    .dataframe thead th {\n",
       "        text-align: right;\n",
       "    }\n",
       "</style>\n",
       "<table border=\"1\" class=\"dataframe\">\n",
       "  <thead>\n",
       "    <tr style=\"text-align: right;\">\n",
       "      <th></th>\n",
       "      <th>sepal length (cm)</th>\n",
       "      <th>sepal width (cm)</th>\n",
       "      <th>petal length (cm)</th>\n",
       "      <th>petal width (cm)</th>\n",
       "    </tr>\n",
       "  </thead>\n",
       "  <tbody>\n",
       "    <tr>\n",
       "      <th>0</th>\n",
       "      <td>0.500000</td>\n",
       "      <td>0.343137</td>\n",
       "      <td>0.137255</td>\n",
       "      <td>0.019608</td>\n",
       "    </tr>\n",
       "    <tr>\n",
       "      <th>1</th>\n",
       "      <td>0.515789</td>\n",
       "      <td>0.315789</td>\n",
       "      <td>0.147368</td>\n",
       "      <td>0.021053</td>\n",
       "    </tr>\n",
       "    <tr>\n",
       "      <th>2</th>\n",
       "      <td>0.500000</td>\n",
       "      <td>0.340426</td>\n",
       "      <td>0.138298</td>\n",
       "      <td>0.021277</td>\n",
       "    </tr>\n",
       "    <tr>\n",
       "      <th>3</th>\n",
       "      <td>0.489362</td>\n",
       "      <td>0.329787</td>\n",
       "      <td>0.159574</td>\n",
       "      <td>0.021277</td>\n",
       "    </tr>\n",
       "    <tr>\n",
       "      <th>4</th>\n",
       "      <td>0.490196</td>\n",
       "      <td>0.352941</td>\n",
       "      <td>0.137255</td>\n",
       "      <td>0.019608</td>\n",
       "    </tr>\n",
       "  </tbody>\n",
       "</table>\n",
       "</div>"
      ],
      "text/plain": [
       "   sepal length (cm)  sepal width (cm)  petal length (cm)  petal width (cm)\n",
       "0           0.500000          0.343137           0.137255          0.019608\n",
       "1           0.515789          0.315789           0.147368          0.021053\n",
       "2           0.500000          0.340426           0.138298          0.021277\n",
       "3           0.489362          0.329787           0.159574          0.021277\n",
       "4           0.490196          0.352941           0.137255          0.019608"
      ]
     },
     "execution_count": 102,
     "metadata": {},
     "output_type": "execute_result"
    }
   ],
   "source": [
    "X_l1 = normalize(X, norm='l1')\n",
    "df_l1 = pd.DataFrame(X_l1, columns=feature_names)\n",
    "\n",
    "print(\"Dados normalizados com norma L1:\")\n",
    "df_l1.head()"
   ]
  },
  {
   "cell_type": "code",
   "execution_count": 103,
   "id": "0c46074b",
   "metadata": {},
   "outputs": [
    {
     "name": "stdout",
     "output_type": "stream",
     "text": [
      "Soma das features normalizadas (L1) por amostra (primeiras 5):\n",
      "0    1.0\n",
      "1    1.0\n",
      "2    1.0\n",
      "3    1.0\n",
      "4    1.0\n",
      "dtype: float64\n"
     ]
    }
   ],
   "source": [
    "somas_l1 = df_l1.sum(axis=1)\n",
    "\n",
    "print(\"Soma das features normalizadas (L1) por amostra (primeiras 5):\")\n",
    "print(somas_l1.head())"
   ]
  },
  {
   "cell_type": "markdown",
   "id": "94e9bbd1",
   "metadata": {},
   "source": [
    "## Parte 2: Seleção de Features - Breast Cancer Dataset"
   ]
  },
  {
   "cell_type": "code",
   "execution_count": 104,
   "id": "6255caf5",
   "metadata": {},
   "outputs": [],
   "source": [
    "from sklearn.datasets import load_breast_cancer\n",
    "from sklearn.feature_selection import SelectKBest, f_classif, RFE\n",
    "from sklearn.linear_model import LogisticRegression\n",
    "from sklearn.model_selection import train_test_split\n",
    "import matplotlib.pyplot as plt"
   ]
  },
  {
   "cell_type": "markdown",
   "id": "d8510024",
   "metadata": {},
   "source": [
    "##### Questão 5 - Seleção de Features por Filtragem"
   ]
  },
  {
   "cell_type": "code",
   "execution_count": 105,
   "id": "70d54887",
   "metadata": {},
   "outputs": [
    {
     "name": "stdout",
     "output_type": "stream",
     "text": [
      "Features selecionadas (filtragem):\n",
      "Index(['mean radius', 'mean perimeter', 'mean area', 'mean concavity',\n",
      "       'mean concave points', 'worst radius', 'worst perimeter', 'worst area',\n",
      "       'worst concavity', 'worst concave points'],\n",
      "      dtype='object')\n"
     ]
    }
   ],
   "source": [
    "data = load_breast_cancer()\n",
    "X = pd.DataFrame(data.data, columns=data.feature_names)\n",
    "y = data.target\n",
    "\n",
    "# Aplicando SelectKBest para selecionar as 10 melhores features\n",
    "selector = SelectKBest(score_func=f_classif, k=10)\n",
    "X_selected_filter = selector.fit_transform(X, y)\n",
    "\n",
    "mask = selector.get_support()\n",
    "selected_features_filter = X.columns[mask]\n",
    "\n",
    "print(\"Features selecionadas (filtragem):\")\n",
    "print(selected_features_filter)"
   ]
  },
  {
   "cell_type": "markdown",
   "id": "759f41c1",
   "metadata": {},
   "source": [
    "**Justificativa**: O método de filtragem com `SelectKBest` é simple e rápido para datasets com muitas features. Ele avalia cada feature individualmente com base na correlação estatística com a variável-alvo!"
   ]
  },
  {
   "cell_type": "markdown",
   "id": "b6964751",
   "metadata": {},
   "source": [
    "##### Questão 6 - Seleção de Features com Método Wrapper"
   ]
  },
  {
   "cell_type": "code",
   "execution_count": 106,
   "id": "faf8b9b6",
   "metadata": {},
   "outputs": [
    {
     "name": "stdout",
     "output_type": "stream",
     "text": [
      "Features selecionadas (wrapper - RFE):\n",
      "Index(['mean radius', 'mean compactness', 'mean concavity', 'texture error',\n",
      "       'worst radius', 'worst smoothness', 'worst compactness',\n",
      "       'worst concavity', 'worst concave points', 'worst symmetry'],\n",
      "      dtype='object')\n"
     ]
    }
   ],
   "source": [
    "model = LogisticRegression(max_iter=5000)\n",
    "\n",
    "# Aplicando RFE para selecionar 10 features\n",
    "rfe = RFE(estimator=model, n_features_to_select=10)\n",
    "rfe.fit(X, y)\n",
    "\n",
    "selected_features_wrapper = X.columns[rfe.support_]\n",
    "\n",
    "print(\"Features selecionadas (wrapper - RFE):\")\n",
    "print(selected_features_wrapper)"
   ]
  },
  {
   "cell_type": "markdown",
   "id": "dcd958b6",
   "metadata": {},
   "source": [
    "**Comparação com filtragem**:\n",
    "- A filtragem é rápida, mas ela analisa cada feature de forma independente.\n",
    "- O RFE é mais demorado, mas geralmente mais eficaz em modelos preditivos."
   ]
  },
  {
   "cell_type": "markdown",
   "id": "7c31bffe",
   "metadata": {},
   "source": [
    "##### Questão 7 - Método de Seleção por Embedding\n",
    "\n",
    "O método *Embedding* realiza a seleção de features internamente durante o treinamento do modelo, utilizando a importância atribuída pelo próprio estimador.\n",
    "\n",
    "###### Exemplo: Lasso (L1) ou Árvores de Decisão\n",
    "- Modelos com regularização L1 (tal qual o Lasso) atribuem peso zero a features irrelevantes.\n",
    "- Árvores de decisão também ranqueiam as features com base na importância das divisões.\n",
    "\n",
    "**Vantagem Computacional**:\n",
    "- Embedding realiza a seleção durante o processo de ajuste do modelo, evitando execuções repetidas como no Wrapper.\n",
    "- Logo, é mais barato computacionalmente que métodos como RFE."
   ]
  },
  {
   "cell_type": "markdown",
   "id": "a181831d",
   "metadata": {},
   "source": [
    "## Parte 3: Processamento de Texto"
   ]
  },
  {
   "cell_type": "code",
   "execution_count": 107,
   "id": "a48c513a",
   "metadata": {},
   "outputs": [
    {
     "name": "stderr",
     "output_type": "stream",
     "text": [
      "[nltk_data] Downloading package punkt to\n",
      "[nltk_data]     /Users/victorgriggi/nltk_data...\n",
      "[nltk_data]   Package punkt is already up-to-date!\n",
      "[nltk_data] Downloading package stopwords to\n",
      "[nltk_data]     /Users/victorgriggi/nltk_data...\n",
      "[nltk_data]   Package stopwords is already up-to-date!\n",
      "[nltk_data] Downloading package wordnet to\n",
      "[nltk_data]     /Users/victorgriggi/nltk_data...\n",
      "[nltk_data]   Package wordnet is already up-to-date!\n",
      "[nltk_data] Downloading package omw-1.4 to\n",
      "[nltk_data]     /Users/victorgriggi/nltk_data...\n",
      "[nltk_data]   Package omw-1.4 is already up-to-date!\n"
     ]
    },
    {
     "data": {
      "text/plain": [
       "True"
      ]
     },
     "execution_count": 107,
     "metadata": {},
     "output_type": "execute_result"
    }
   ],
   "source": [
    "from sklearn.feature_extraction.text import CountVectorizer\n",
    "import nltk\n",
    "from nltk.corpus import stopwords\n",
    "from nltk.stem import PorterStemmer, WordNetLemmatizer\n",
    "from nltk.tokenize import word_tokenize\n",
    "import pandas as pd\n",
    "\n",
    "nltk.download('punkt')\n",
    "nltk.download('stopwords')\n",
    "nltk.download('wordnet')\n",
    "nltk.download('omw-1.4')"
   ]
  },
  {
   "cell_type": "code",
   "execution_count": 108,
   "id": "147700ed",
   "metadata": {},
   "outputs": [],
   "source": [
    "texto = \"\"\"\n",
    "A alma é, pois, imortal; renasceu repetidas vezes na existência e contemplou todas as coisas existentes e por isso não há nada que ela não conheça! \n",
    "Não é de espantar que ela seja capaz de evocar à memória a lembrança de objetos que viu anteriormente, e que se relacionam tanto com a virtude como com as outras coisas existentes. \n",
    "Toda a natureza, com efeito, é uma só, é um todo orgânico, e o espírito já viu todas as coisas; logo, nada impede que ao nos lembrarmos de uma coisa – \n",
    "o que nós, homens, chamamos de “saber” – todas as outras coisas acorram imediata e maquinalmente à nossa consciência.\n",
    "\"\"\""
   ]
  },
  {
   "cell_type": "markdown",
   "id": "8ff3783f",
   "metadata": {},
   "source": [
    "##### Questão 8 – Bag-of-Words"
   ]
  },
  {
   "cell_type": "code",
   "execution_count": 109,
   "id": "cd35178e",
   "metadata": {},
   "outputs": [
    {
     "name": "stdout",
     "output_type": "stream",
     "text": [
      "Vetor Bag-of-Words:\n"
     ]
    },
    {
     "data": {
      "text/html": [
       "<div>\n",
       "<style scoped>\n",
       "    .dataframe tbody tr th:only-of-type {\n",
       "        vertical-align: middle;\n",
       "    }\n",
       "\n",
       "    .dataframe tbody tr th {\n",
       "        vertical-align: top;\n",
       "    }\n",
       "\n",
       "    .dataframe thead th {\n",
       "        text-align: right;\n",
       "    }\n",
       "</style>\n",
       "<table border=\"1\" class=\"dataframe\">\n",
       "  <thead>\n",
       "    <tr style=\"text-align: right;\">\n",
       "      <th></th>\n",
       "      <th>acorram</th>\n",
       "      <th>alma</th>\n",
       "      <th>anteriormente</th>\n",
       "      <th>ao</th>\n",
       "      <th>as</th>\n",
       "      <th>capaz</th>\n",
       "      <th>chamamos</th>\n",
       "      <th>coisa</th>\n",
       "      <th>coisas</th>\n",
       "      <th>com</th>\n",
       "      <th>...</th>\n",
       "      <th>só</th>\n",
       "      <th>tanto</th>\n",
       "      <th>toda</th>\n",
       "      <th>todas</th>\n",
       "      <th>todo</th>\n",
       "      <th>um</th>\n",
       "      <th>uma</th>\n",
       "      <th>vezes</th>\n",
       "      <th>virtude</th>\n",
       "      <th>viu</th>\n",
       "    </tr>\n",
       "  </thead>\n",
       "  <tbody>\n",
       "    <tr>\n",
       "      <th>0</th>\n",
       "      <td>1</td>\n",
       "      <td>1</td>\n",
       "      <td>1</td>\n",
       "      <td>1</td>\n",
       "      <td>4</td>\n",
       "      <td>1</td>\n",
       "      <td>1</td>\n",
       "      <td>1</td>\n",
       "      <td>4</td>\n",
       "      <td>3</td>\n",
       "      <td>...</td>\n",
       "      <td>1</td>\n",
       "      <td>1</td>\n",
       "      <td>1</td>\n",
       "      <td>3</td>\n",
       "      <td>1</td>\n",
       "      <td>1</td>\n",
       "      <td>2</td>\n",
       "      <td>1</td>\n",
       "      <td>1</td>\n",
       "      <td>2</td>\n",
       "    </tr>\n",
       "  </tbody>\n",
       "</table>\n",
       "<p>1 rows × 63 columns</p>\n",
       "</div>"
      ],
      "text/plain": [
       "   acorram  alma  anteriormente  ao  as  capaz  chamamos  coisa  coisas  com  \\\n",
       "0        1     1              1   1   4      1         1      1       4    3   \n",
       "\n",
       "   ...  só  tanto  toda  todas  todo  um  uma  vezes  virtude  viu  \n",
       "0  ...   1      1     1      3     1   1    2      1        1    2  \n",
       "\n",
       "[1 rows x 63 columns]"
      ]
     },
     "execution_count": 109,
     "metadata": {},
     "output_type": "execute_result"
    }
   ],
   "source": [
    "vectorizer = CountVectorizer()\n",
    "X_bow = vectorizer.fit_transform([texto])\n",
    "\n",
    "df_bow = pd.DataFrame(X_bow.toarray(), columns=vectorizer.get_feature_names_out())\n",
    "\n",
    "print(\"Vetor Bag-of-Words:\")\n",
    "df_bow"
   ]
  },
  {
   "cell_type": "markdown",
   "id": "cfc0ab9c",
   "metadata": {},
   "source": [
    "##### Questão 9 – Bag-of-n-Grams (Unigrams, Bigrams, Trigrams)"
   ]
  },
  {
   "cell_type": "code",
   "execution_count": 110,
   "id": "3c5e555b",
   "metadata": {},
   "outputs": [
    {
     "name": "stdout",
     "output_type": "stream",
     "text": [
      "Número de unigrams: 63\n",
      "Número de bigrams: 82\n",
      "Número de trigrams: 86\n"
     ]
    }
   ],
   "source": [
    "# Unigrams\n",
    "vectorizer_uni = CountVectorizer(ngram_range=(1,1))\n",
    "X_uni = vectorizer_uni.fit_transform([texto])\n",
    "print(\"Número de unigrams:\", len(vectorizer_uni.get_feature_names_out()))\n",
    "\n",
    "# Bigrams\n",
    "vectorizer_bi = CountVectorizer(ngram_range=(2,2))\n",
    "X_bi = vectorizer_bi.fit_transform([texto])\n",
    "print(\"Número de bigrams:\", len(vectorizer_bi.get_feature_names_out()))\n",
    "\n",
    "# Trigrams\n",
    "vectorizer_tri = CountVectorizer(ngram_range=(3,3))\n",
    "X_tri = vectorizer_tri.fit_transform([texto])\n",
    "print(\"Número de trigrams:\", len(vectorizer_tri.get_feature_names_out()))"
   ]
  },
  {
   "cell_type": "markdown",
   "id": "674e523e",
   "metadata": {},
   "source": [
    "##### Questão 10 – Remoção de Stopwords com NLTK"
   ]
  },
  {
   "cell_type": "code",
   "execution_count": 111,
   "id": "461cf495",
   "metadata": {},
   "outputs": [
    {
     "name": "stdout",
     "output_type": "stream",
     "text": [
      "Texto sem stopwords:\n",
      "alma pois imortal renasceu repetidas vezes existência contemplou todas coisas existentes nada conheça espantar capaz evocar memória lembrança objetos viu anteriormente relacionam tanto virtude outras coisas existentes toda natureza efeito todo orgânico espírito viu todas coisas logo nada impede lembrarmos coisa homens chamamos saber todas outras coisas acorram imediata maquinalmente consciência\n"
     ]
    }
   ],
   "source": [
    "from nltk.tokenize import RegexpTokenizer\n",
    "\n",
    "# Tokenizador que remove pontuação\n",
    "tokenizer = RegexpTokenizer(r'\\w+')\n",
    "tokens = tokenizer.tokenize(texto.lower())\n",
    "\n",
    "# Stopwords em português\n",
    "stop_words = set(stopwords.words('portuguese'))\n",
    "\n",
    "# Removendo stopwords\n",
    "tokens_sem_stopwords = [word for word in tokens if word not in stop_words]\n",
    "\n",
    "print(\"Texto sem stopwords:\")\n",
    "print(\" \".join(tokens_sem_stopwords))"
   ]
  },
  {
   "cell_type": "markdown",
   "id": "489467c8",
   "metadata": {},
   "source": [
    "##### Questão 11 – Aplicação de Stemming com NLTK"
   ]
  },
  {
   "cell_type": "code",
   "execution_count": 112,
   "id": "07c0d900",
   "metadata": {},
   "outputs": [
    {
     "name": "stdout",
     "output_type": "stream",
     "text": [
      "Texto após stemming:\n",
      "alma poi imort renasceu repetida veze existência contempl toda coisa existent nada conheça espantar capaz evocar memória lembrança objeto viu anteriorment relacionam tanto virtud outra coisa existent toda natureza efeito todo orgânico espírito viu toda coisa logo nada imped lembrarmo coisa homen chamamo saber toda outra coisa acorram imediata maquinalment consciência\n"
     ]
    }
   ],
   "source": [
    "stemmer = PorterStemmer()\n",
    "stems = [stemmer.stem(word) for word in tokens_sem_stopwords]\n",
    "\n",
    "print(\"Texto após stemming:\")\n",
    "print(\" \".join(stems))"
   ]
  },
  {
   "cell_type": "markdown",
   "id": "c280fdee",
   "metadata": {},
   "source": [
    "##### Questão 12 – Aplicação de Lemmatization com NLTK"
   ]
  },
  {
   "cell_type": "code",
   "execution_count": 113,
   "id": "68b8408e",
   "metadata": {},
   "outputs": [
    {
     "name": "stdout",
     "output_type": "stream",
     "text": [
      "Texto após lematização:\n",
      "alma poi imortal renasceu repetidas vezes existência contemplou toda coisas existentes nada conheça espantar capaz evocar memória lembrança objetos viu anteriormente relacionam tanto virtude outras coisas existentes toda natureza efeito todo orgânico espírito viu toda coisas logo nada impede lembrarmos coisa homens chamamos saber toda outras coisas acorram imediata maquinalmente consciência\n"
     ]
    }
   ],
   "source": [
    "lemmatizer = WordNetLemmatizer()\n",
    "lemmas = [lemmatizer.lemmatize(word) for word in tokens_sem_stopwords]\n",
    "\n",
    "print(\"Texto após lematização:\")\n",
    "print(\" \".join(lemmas))"
   ]
  }
 ],
 "metadata": {
  "kernelspec": {
   "display_name": "infnet-ml",
   "language": "python",
   "name": "python3"
  },
  "language_info": {
   "codemirror_mode": {
    "name": "ipython",
    "version": 3
   },
   "file_extension": ".py",
   "mimetype": "text/x-python",
   "name": "python",
   "nbconvert_exporter": "python",
   "pygments_lexer": "ipython3",
   "version": "3.13.2"
  }
 },
 "nbformat": 4,
 "nbformat_minor": 5
}
